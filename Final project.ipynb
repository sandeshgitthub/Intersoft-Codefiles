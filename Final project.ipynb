{
 "cells": [
  {
   "cell_type": "code",
   "execution_count": 1,
   "id": "ee6b31f8",
   "metadata": {},
   "outputs": [],
   "source": [
    "import os\n",
    "import time\n",
    "import subprocess\n",
    "import json"
   ]
  },
  {
   "cell_type": "code",
   "execution_count": 2,
   "id": "74adc1e9",
   "metadata": {},
   "outputs": [],
   "source": [
    "import wolframalpha\n",
    "import requests\n",
    "import webbrowser\n",
    "import wikipedia\n",
    "import datetime\n",
    "import pyaudio"
   ]
  },
  {
   "cell_type": "code",
   "execution_count": 3,
   "id": "9bea2f6b",
   "metadata": {},
   "outputs": [],
   "source": [
    "import speech_recognition as sr\n",
    "import pyttsx3"
   ]
  },
  {
   "cell_type": "code",
   "execution_count": 4,
   "id": "aef16b4c",
   "metadata": {},
   "outputs": [
    {
     "name": "stdout",
     "output_type": "stream",
     "text": [
      "LODING YOUR A.I TO PERSONAL ASSITANT JAVRVIS\n"
     ]
    }
   ],
   "source": [
    "print('LODING YOUR A.I TO PERSONAL ASSITANT JAVRVIS')"
   ]
  },
  {
   "cell_type": "code",
   "execution_count": 5,
   "id": "27913e6a",
   "metadata": {},
   "outputs": [],
   "source": [
    "engine=pyttsx3.init('sapi5')\n",
    "voices=engine.getProperty('voices')\n",
    "engine.setProperty(\"voice\",'voices[0].id')"
   ]
  },
  {
   "cell_type": "code",
   "execution_count": 6,
   "id": "be5e98a1",
   "metadata": {},
   "outputs": [],
   "source": [
    "def speak(text):\n",
    "    engine.say(text)\n",
    "    engine.runAndWait()"
   ]
  },
  {
   "cell_type": "code",
   "execution_count": 7,
   "id": "9912d49a",
   "metadata": {},
   "outputs": [],
   "source": [
    "def wishMe():\n",
    "    hour=datetime.datetime.now().hour\n",
    "    if hour >= 0 and hour < 12:\n",
    "        speak('hellow , good morning Mr. sandy')\n",
    "        print('hellow , good morning Mr. sandy')\n",
    "    elif hour >= 12 and hour <=18:\n",
    "        speak('hellow , good afternoon Mr. sandy')\n",
    "        print('hellow , good afternoon Mr. sandy')\n",
    "    else:\n",
    "        speak('Its already the night time better go to sleep')\n",
    "        print('Its already the night time better go to sleep')"
   ]
  },
  {
   "cell_type": "code",
   "execution_count": 8,
   "id": "076b3ec9",
   "metadata": {},
   "outputs": [],
   "source": [
    "def takeCommand():\n",
    "    r=sr.Recognizer()\n",
    "    with sr.Microphone() as source:\n",
    "        print('i am listening....')\n",
    "        audio = r.listen(source)\n",
    "    \n",
    "    try:\n",
    "        statement=r.recognize_google(audio,language='en-in')\n",
    "        print(f\"user said:{statement}/n\")\n",
    "        \n",
    "    except:\n",
    "        speak('Pardon me,please say that again')\n",
    "        return 'None'\n",
    "    return statement"
   ]
  },
  {
   "cell_type": "code",
   "execution_count": 9,
   "id": "80584aa0",
   "metadata": {},
   "outputs": [
    {
     "name": "stdout",
     "output_type": "stream",
     "text": [
      "Its already the night time better go to sleep\n"
     ]
    }
   ],
   "source": [
    "speak('LODING YOUR A.I TO PERSONAL ASSITANT JAVRVIS')\n",
    "wishMe()"
   ]
  },
  {
   "cell_type": "code",
   "execution_count": null,
   "id": "50795d11",
   "metadata": {},
   "outputs": [
    {
     "name": "stdout",
     "output_type": "stream",
     "text": [
      "i am listening....\n",
      "i am listening....\n",
      "i am listening....\n"
     ]
    }
   ],
   "source": [
    "if __name__ == '__main__':\n",
    "    \n",
    "    while True:\n",
    "        speak('Tell m how can i help you..?')\n",
    "        statement = takeCommand().lower()\n",
    "        if statement == 0:\n",
    "            continue\n",
    "            \n",
    "        if \"good bye\" in statement or \"ok bye\" in statement or\"stop\" in statement:\n",
    "            speak(\"Your personal AI assistant JARVIS is  shutting  down, Good bye\")\n",
    "            print(\"Your personal AI assistant JARVIS is  shutting  down, Good bye\")\n",
    "            break\n",
    "        \n",
    "        if 'wikipedia' in statement:\n",
    "            speak('searching in wikipedia....')\n",
    "            statement=statement.replace('wikipedia', \" \")\n",
    "            results=wikipedia.summary(staement,sentences=3)\n",
    "            speak('According to wikipedia..')\n",
    "            print(results)\n",
    "            speak(results)\n",
    "            \n",
    "        \n",
    "        elif \"open youtube\"  in statement:\n",
    "            webbrowser.open_new_tab('https://www.youtube.com')\n",
    "            speak('youtube is opend for you')\n",
    "            time.sleep(5)\n",
    "            \n",
    "            \n",
    "        elif \"open google\" in statement:\n",
    "            webbrowser.open_new_tab('https://www.google.com')\n",
    "            speak('google is opend for you')\n",
    "            time.sleep(5)\n",
    "            \n",
    "            \n",
    "        elif \"open gmail\" in statement:\n",
    "            webbrowser.open_new_tab('https://www.gmail.com')\n",
    "            speak('gmail is opend for you')\n",
    "            time.sleep(5)\n",
    "            \n",
    "            \n",
    "        elif \"weather\" in statement:\n",
    "            api_key = \"8ef61edcf1c576d65d836254e11ea420\"\n",
    "            base_url = 'https://api.openweathermap.org/data/2.5/weather?'\n",
    "            speak('whats the city name')\n",
    "            city_name= takeCommand() \n",
    "            complete_url=base_url + 'appid = ' + api_key + '&q = ' + city_name\n",
    "            response = requests.get(complete_url)\n",
    "            x=response.json()\n",
    "            if x['cod'] != '404':\n",
    "                y = x['main']\n",
    "                current_temperature =y['temp']\n",
    "                current_humidity = y['humidity']\n",
    "                z= x['weather']\n",
    "                weather_description=z[0]['description']\n",
    "                speak('the temperature in kelvin units is ' + str(current_temperature) + '/n humidity in percentage is ' + str(current_humidity)+ '/n weather description'+str(weather_description))\n",
    "                print('the temperature in kelvin units is ' + str(current_temperature) + '/n humidity in percentage is ' + str(current_humidity)+ '/n weather description'+str(weather_description))\n",
    "            \n",
    "            else:\n",
    "                speak('city not found')\n",
    "                print('city not found')\n",
    "                \n",
    "            \n",
    "        elif \"time\" in statement:\n",
    "            strTime= datetimet.datetimet.now().strftime('%H:%M:%S')\n",
    "            speak(f\"the time is {strTime}\")\n",
    "            \n",
    "            \n",
    "        elif \"who are you\" in statement or \"what can you do\" in statement:\n",
    "            speak('I am JARVIS version 1 point 0 your personal assistance.I am programmed to minor task like'\n",
    "                  'opening youtube,google chrome,Gmail and stack overflow,predict time,take a photo,search wikipedia,predict weather'\n",
    "                  'in different cities,get top headline news from time of india and you can ask me computational or geographical quetion too!')\n",
    "            \n",
    "        \n",
    "        elif \"who made you\" in statement or \"who created you\" in statement or \"who discovered you\" in statement:\n",
    "            speak(\"I was build by AI Robosoft\")\n",
    "            print(\"I was build by AI Robosoft\")\n",
    "            \n",
    "            \n",
    "        \n",
    "        elif \"open stack overflow\" in statement: \n",
    "            webbrowser.open_new_tab('https://stackoverflow.com/login')\n",
    "            time.sleep(5)\n",
    "            \n",
    "            \n",
    "        elif \"news\" in statement:\n",
    "            webbrowser.open_new_tab('https://timesofindia.indiatimes.com/home/headlines')\n",
    "            speak(\"here are some headlines for you from times of India - happy reading\")\n",
    "            time.sleep(7)\n",
    "            \n",
    "            \n",
    "        elif \"search\" in statement:\n",
    "            statement =statement.replace('search',' ')\n",
    "            webbrowser.open_new_tab(\"statement\")\n",
    "            time.sleep(5)\n",
    "            \n",
    "            \n",
    "        elif \"ask\" in statement:\n",
    "            speak(\"I can answer to computational and geographical questions too just try me !! what do you want to ask\")\n",
    "            question= takeCommand()\n",
    "            app_id=\"R2K75H-7ELALHR35X\"\n",
    "            client=wolframalpha.Client(\"R2K75H-7ELALHR35X\")\n",
    "            res=client.query(question)\n",
    "            answer=next(res.results).text\n",
    "            speak(answer)\n",
    "            print(answer)\n",
    "            \n",
    "            \n",
    "        elif \"log off\" in statement or \"sign out\" in statement or \"shut down\" in statement:\n",
    "            speak(\"ok ,your PC will shutdown in 10 seconds- make sure you have saved and eit from all applications\")\n",
    "            subprocess.call(['shutdown','/1'])\n",
    "            \n",
    "time.sleep(3)\n",
    "            \n",
    "                  \n",
    "                                                    "
   ]
  },
  {
   "cell_type": "code",
   "execution_count": null,
   "id": "f1b3fef7",
   "metadata": {},
   "outputs": [],
   "source": []
  },
  {
   "cell_type": "code",
   "execution_count": null,
   "id": "e876a048",
   "metadata": {},
   "outputs": [],
   "source": []
  }
 ],
 "metadata": {
  "kernelspec": {
   "display_name": "Python 3",
   "language": "python",
   "name": "python3"
  },
  "language_info": {
   "codemirror_mode": {
    "name": "ipython",
    "version": 3
   },
   "file_extension": ".py",
   "mimetype": "text/x-python",
   "name": "python",
   "nbconvert_exporter": "python",
   "pygments_lexer": "ipython3",
   "version": "3.8.8"
  }
 },
 "nbformat": 4,
 "nbformat_minor": 5
}
